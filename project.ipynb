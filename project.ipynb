{
 "cells": [
  {
   "cell_type": "markdown",
   "metadata": {},
   "source": [
    "\n",
    "\n",
    "\n",
    "\n",
    "# Loading Packages"
   ]
  },
  {
   "cell_type": "code",
   "execution_count": 5,
   "metadata": {},
   "outputs": [],
   "source": [
    "import numpy as np\n",
    "import pandas as pd\n",
    "import warnings\n",
    "from sklearn.model_selection import train_test_split\n",
    "from sklearn.preprocessing import StandardScaler\n",
    "from sklearn.decomposition import PCA\n",
    "from sklearn.metrics import accuracy_score,f1_score,confusion_matrix,classification_report\n",
    "from sklearn.linear_model import LogisticRegression\n",
    "from sklearn.tree import DecisionTreeClassifier\n",
    "from sklearn.neighbors import KNeighborsClassifier\n",
    "from sklearn.neural_network import MLPClassifier\n",
    "from sklearn.naive_bayes import GaussianNB\n",
    "from sklearn.svm import SVC\n",
    "from sklearn.ensemble import BaggingClassifier,VotingClassifier \n",
    "from sklearn import metrics\n",
    "from sklearn import model_selection\n",
    "import matplotlib.pyplot as plt\n",
    "import seaborn as sns\n",
    "warnings.filterwarnings('ignore')\n",
    "%matplotlib inline\n",
    "\n"
   ]
  },
  {
   "cell_type": "markdown",
   "metadata": {},
   "source": [
    "# Loading Dataset"
   ]
  },
  {
   "cell_type": "code",
   "execution_count": null,
   "metadata": {},
   "outputs": [],
   "source": []
  },
  {
   "cell_type": "code",
   "execution_count": 6,
   "metadata": {},
   "outputs": [],
   "source": [
    "data=pd.read_csv(r\"C:\\Users\\s544906\\Fall2022\\GDP-2\\heart.csv\")"
   ]
  },
  {
   "cell_type": "code",
   "execution_count": 7,
   "metadata": {},
   "outputs": [
    {
     "data": {
      "text/html": [
       "<div>\n",
       "<style scoped>\n",
       "    .dataframe tbody tr th:only-of-type {\n",
       "        vertical-align: middle;\n",
       "    }\n",
       "\n",
       "    .dataframe tbody tr th {\n",
       "        vertical-align: top;\n",
       "    }\n",
       "\n",
       "    .dataframe thead th {\n",
       "        text-align: right;\n",
       "    }\n",
       "</style>\n",
       "<table border=\"1\" class=\"dataframe\">\n",
       "  <thead>\n",
       "    <tr style=\"text-align: right;\">\n",
       "      <th></th>\n",
       "      <th>age</th>\n",
       "      <th>sex</th>\n",
       "      <th>cp</th>\n",
       "      <th>trestbps</th>\n",
       "      <th>chol</th>\n",
       "      <th>fbs</th>\n",
       "      <th>restecg</th>\n",
       "      <th>thalach</th>\n",
       "      <th>exang</th>\n",
       "      <th>oldpeak</th>\n",
       "      <th>slope</th>\n",
       "      <th>ca</th>\n",
       "      <th>thal</th>\n",
       "      <th>target</th>\n",
       "    </tr>\n",
       "  </thead>\n",
       "  <tbody>\n",
       "    <tr>\n",
       "      <th>0</th>\n",
       "      <td>52</td>\n",
       "      <td>1</td>\n",
       "      <td>0</td>\n",
       "      <td>125</td>\n",
       "      <td>212</td>\n",
       "      <td>0</td>\n",
       "      <td>1</td>\n",
       "      <td>168</td>\n",
       "      <td>0</td>\n",
       "      <td>1.0</td>\n",
       "      <td>2</td>\n",
       "      <td>2</td>\n",
       "      <td>3</td>\n",
       "      <td>0</td>\n",
       "    </tr>\n",
       "    <tr>\n",
       "      <th>1</th>\n",
       "      <td>53</td>\n",
       "      <td>1</td>\n",
       "      <td>0</td>\n",
       "      <td>140</td>\n",
       "      <td>203</td>\n",
       "      <td>1</td>\n",
       "      <td>0</td>\n",
       "      <td>155</td>\n",
       "      <td>1</td>\n",
       "      <td>3.1</td>\n",
       "      <td>0</td>\n",
       "      <td>0</td>\n",
       "      <td>3</td>\n",
       "      <td>0</td>\n",
       "    </tr>\n",
       "    <tr>\n",
       "      <th>2</th>\n",
       "      <td>70</td>\n",
       "      <td>1</td>\n",
       "      <td>0</td>\n",
       "      <td>145</td>\n",
       "      <td>174</td>\n",
       "      <td>0</td>\n",
       "      <td>1</td>\n",
       "      <td>125</td>\n",
       "      <td>1</td>\n",
       "      <td>2.6</td>\n",
       "      <td>0</td>\n",
       "      <td>0</td>\n",
       "      <td>3</td>\n",
       "      <td>0</td>\n",
       "    </tr>\n",
       "    <tr>\n",
       "      <th>3</th>\n",
       "      <td>61</td>\n",
       "      <td>1</td>\n",
       "      <td>0</td>\n",
       "      <td>148</td>\n",
       "      <td>203</td>\n",
       "      <td>0</td>\n",
       "      <td>1</td>\n",
       "      <td>161</td>\n",
       "      <td>0</td>\n",
       "      <td>0.0</td>\n",
       "      <td>2</td>\n",
       "      <td>1</td>\n",
       "      <td>3</td>\n",
       "      <td>0</td>\n",
       "    </tr>\n",
       "    <tr>\n",
       "      <th>4</th>\n",
       "      <td>62</td>\n",
       "      <td>0</td>\n",
       "      <td>0</td>\n",
       "      <td>138</td>\n",
       "      <td>294</td>\n",
       "      <td>1</td>\n",
       "      <td>1</td>\n",
       "      <td>106</td>\n",
       "      <td>0</td>\n",
       "      <td>1.9</td>\n",
       "      <td>1</td>\n",
       "      <td>3</td>\n",
       "      <td>2</td>\n",
       "      <td>0</td>\n",
       "    </tr>\n",
       "  </tbody>\n",
       "</table>\n",
       "</div>"
      ],
      "text/plain": [
       "   age  sex  cp  trestbps  chol  fbs  restecg  thalach  exang  oldpeak  slope  \\\n",
       "0   52    1   0       125   212    0        1      168      0      1.0      2   \n",
       "1   53    1   0       140   203    1        0      155      1      3.1      0   \n",
       "2   70    1   0       145   174    0        1      125      1      2.6      0   \n",
       "3   61    1   0       148   203    0        1      161      0      0.0      2   \n",
       "4   62    0   0       138   294    1        1      106      0      1.9      1   \n",
       "\n",
       "   ca  thal  target  \n",
       "0   2     3       0  \n",
       "1   0     3       0  \n",
       "2   0     3       0  \n",
       "3   1     3       0  \n",
       "4   3     2       0  "
      ]
     },
     "execution_count": 7,
     "metadata": {},
     "output_type": "execute_result"
    }
   ],
   "source": [
    "data.head()"
   ]
  },
  {
   "cell_type": "code",
   "execution_count": 8,
   "metadata": {},
   "outputs": [],
   "source": [
    "X = data.drop('target',1)\n",
    "Y = data['target']"
   ]
  },
  {
   "cell_type": "code",
   "execution_count": 9,
   "metadata": {},
   "outputs": [],
   "source": [
    "categorical_feature_mask = X.dtypes==object"
   ]
  },
  {
   "cell_type": "code",
   "execution_count": 10,
   "metadata": {},
   "outputs": [
    {
     "data": {
      "text/plain": [
       "[]"
      ]
     },
     "execution_count": 10,
     "metadata": {},
     "output_type": "execute_result"
    }
   ],
   "source": [
    "categorical_cols = X.columns[categorical_feature_mask].tolist()\n",
    "categorical_cols\n"
   ]
  },
  {
   "cell_type": "markdown",
   "metadata": {},
   "source": [
    "# splitting data"
   ]
  },
  {
   "cell_type": "code",
   "execution_count": 11,
   "metadata": {},
   "outputs": [],
   "source": [
    "x_train,x_test,y_train,y_test=train_test_split(X,Y,test_size=0.33,random_state=0)"
   ]
  },
  {
   "cell_type": "code",
   "execution_count": 12,
   "metadata": {},
   "outputs": [
    {
     "data": {
      "text/plain": [
       "(686, 13)"
      ]
     },
     "execution_count": 12,
     "metadata": {},
     "output_type": "execute_result"
    }
   ],
   "source": [
    "x_train.shape"
   ]
  },
  {
   "cell_type": "code",
   "execution_count": 13,
   "metadata": {},
   "outputs": [
    {
     "data": {
      "text/plain": [
       "(339, 13)"
      ]
     },
     "execution_count": 13,
     "metadata": {},
     "output_type": "execute_result"
    }
   ],
   "source": [
    "x_test.shape"
   ]
  },
  {
   "cell_type": "code",
   "execution_count": 14,
   "metadata": {},
   "outputs": [
    {
     "data": {
      "text/plain": [
       "(686,)"
      ]
     },
     "execution_count": 14,
     "metadata": {},
     "output_type": "execute_result"
    }
   ],
   "source": [
    "y_train.shape"
   ]
  },
  {
   "cell_type": "code",
   "execution_count": 15,
   "metadata": {},
   "outputs": [
    {
     "data": {
      "text/plain": [
       "(339,)"
      ]
     },
     "execution_count": 15,
     "metadata": {},
     "output_type": "execute_result"
    }
   ],
   "source": [
    "y_test.shape"
   ]
  },
  {
   "cell_type": "markdown",
   "metadata": {},
   "source": [
    "# Applying PCA"
   ]
  },
  {
   "cell_type": "code",
   "execution_count": 16,
   "metadata": {},
   "outputs": [
    {
     "data": {
      "text/plain": [
       "array([[ 0.73133104,  0.64829766, -0.91630468, ..., -0.65696462,\n",
       "         0.22608859, -0.51163058],\n",
       "       [ 0.063594  , -1.54250133,  0.0552332 , ...,  0.97003079,\n",
       "        -0.7372454 , -0.51163058],\n",
       "       [ 0.28617302,  0.64829766,  1.02677108, ..., -0.65696462,\n",
       "         0.22608859,  1.09101132],\n",
       "       ...,\n",
       "       [ 1.17648907,  0.64829766,  1.99830896, ..., -0.65696462,\n",
       "         0.22608859, -0.51163058],\n",
       "       [ 1.39906808,  0.64829766, -0.91630468, ..., -0.65696462,\n",
       "        -0.7372454 , -0.51163058],\n",
       "       [ 0.62004154,  0.64829766,  1.02677108, ..., -0.65696462,\n",
       "        -0.7372454 , -0.51163058]])"
      ]
     },
     "execution_count": 16,
     "metadata": {},
     "output_type": "execute_result"
    }
   ],
   "source": [
    "sc = StandardScaler()\n",
    "X_train=sc.fit_transform(x_train)\n",
    "X_test=sc.transform(x_test)\n",
    "X_train"
   ]
  },
  {
   "cell_type": "code",
   "execution_count": 17,
   "metadata": {},
   "outputs": [],
   "source": [
    "pca=PCA()\n",
    "X_train=pca.fit_transform(X_train)\n",
    "X_test=pca.transform(X_test)"
   ]
  },
  {
   "cell_type": "code",
   "execution_count": 18,
   "metadata": {},
   "outputs": [
    {
     "data": {
      "text/plain": [
       "array([[ 2.64883175, -1.20981157],\n",
       "       [-1.2171714 ,  1.54217049],\n",
       "       [-0.13338693,  0.05707181],\n",
       "       ...,\n",
       "       [-0.00761104,  2.40559363],\n",
       "       [ 1.56577606, -0.90310399],\n",
       "       [ 0.33443391,  0.25488145]])"
      ]
     },
     "execution_count": 18,
     "metadata": {},
     "output_type": "execute_result"
    }
   ],
   "source": [
    "\n",
    "pca = PCA(n_components=2)\n",
    "X_train=pca.fit_transform(X_train)\n",
    "X_test=pca.transform(X_test)\n",
    "X_train\n"
   ]
  },
  {
   "cell_type": "code",
   "execution_count": 19,
   "metadata": {},
   "outputs": [],
   "source": [
    "accuracy1=[]\n",
    "def generate_accuracy(ytest,ypred,classifier):\n",
    "    cm = confusion_matrix(ytest,ypred)\n",
    "    accuracy1.append(accuracy_score(ytest, ypred))\n",
    "    class_names=[0,1] # name  of classes\n",
    "    fig, ax = plt.subplots()\n",
    "    tick_marks = np.arange(len(class_names))\n",
    "    plt.xticks(tick_marks, class_names)\n",
    "    plt.yticks(tick_marks, class_names)# create heatmap\n",
    "    sns.heatmap(pd.DataFrame(cm), annot=True, cmap=\"YlGnBu\" ,fmt='g')\n",
    "    ax.xaxis.set_label_position(\"top\")\n",
    "    plt.tight_layout()\n",
    "    plt.title('Confusion matrix', y=1.1)\n",
    "    plt.ylabel('Actual label')\n",
    "    plt.xlabel('Predicted label')\n",
    "    \n",
    "    print('Accuracy',accuracy_score(ytest, ypred))\n",
    "    print('f1_score',f1_score(ytest,ypred))\n",
    "    print('Mean Absolute Error:', metrics.mean_absolute_error(ytest,ypred))\n",
    "    #print('Mean Squared Error:', metrics.mean_squared_error(ytest,ypred))  \n",
    "    print('Root Mean Squared Error:', np.sqrt(metrics.mean_squared_error(ytest,ypred)))\n",
    "    \n",
    "    print(\"\\n\",classification_report(ytest,ypred))\n",
    "\n",
    "    \n",
    "    \n",
    "\n",
    "    "
   ]
  },
  {
   "cell_type": "code",
   "execution_count": 20,
   "metadata": {},
   "outputs": [],
   "source": [
    "accuracy2=[]\n",
    "def generate_bag_accuracy(ytest,ypred,classifier):\n",
    "    cm = confusion_matrix(ytest,ypred)\n",
    "    accuracy2.append(accuracy_score(ytest, ypred))\n",
    "    class_names=[0,1] # name  of classes\n",
    "    fig, ax = plt.subplots()\n",
    "    tick_marks = np.arange(len(class_names))\n",
    "    plt.xticks(tick_marks, class_names)\n",
    "    plt.yticks(tick_marks, class_names)# create heatmap\n",
    "    sns.heatmap(pd.DataFrame(cm), annot=True, cmap=\"YlGnBu\" ,fmt='g')\n",
    "    ax.xaxis.set_label_position(\"top\")\n",
    "    plt.tight_layout()\n",
    "    plt.title('Confusion matrix', y=1.1)\n",
    "    plt.ylabel('Actual label')\n",
    "    plt.xlabel('Predicted label')\n",
    "    \n",
    "    print('Accuracy',accuracy_score(ytest, ypred))\n",
    "    print('f1_score',f1_score(ytest,ypred))\n",
    "    print('Mean Absolute Error:', metrics.mean_absolute_error(ytest,ypred))\n",
    "    #print('Mean Squared Error:', metrics.mean_squared_error(ytest,ypred))  \n",
    "    print('Root Mean Squared Error:', np.sqrt(metrics.mean_squared_error(ytest,ypred)))\n",
    "    \n",
    "    print(\"\\n\",classification_report(ytest,ypred))"
   ]
  },
  {
   "cell_type": "markdown",
   "metadata": {},
   "source": [
    "# Logistic Regression"
   ]
  },
  {
   "cell_type": "code",
   "execution_count": 21,
   "metadata": {},
   "outputs": [
    {
     "name": "stdout",
     "output_type": "stream",
     "text": [
      "Accuracy 0.831858407079646\n",
      "f1_score 0.841225626740947\n",
      "Mean Absolute Error: 0.168141592920354\n",
      "Root Mean Squared Error: 0.41005071993639275\n",
      "\n",
      "               precision    recall  f1-score   support\n",
      "\n",
      "           0       0.81      0.83      0.82       158\n",
      "           1       0.85      0.83      0.84       181\n",
      "\n",
      "    accuracy                           0.83       339\n",
      "   macro avg       0.83      0.83      0.83       339\n",
      "weighted avg       0.83      0.83      0.83       339\n",
      "\n"
     ]
    },
    {
     "data": {
      "image/png": "[encoded data removed]",
      "text/plain": [
       "<Figure size 432x288 with 2 Axes>"
      ]
     },
     "metadata": {
      "needs_background": "light"
     },
     "output_type": "display_data"
    }
   ],
   "source": [
    "logreg=LogisticRegression()\n",
    "logreg.fit(X_train,y_train)\n",
    "y_pred=logreg.predict(X_test)\n",
    "generate_accuracy(y_test,y_pred,logreg)"
   ]
  },
  {
   "cell_type": "markdown",
   "metadata": {},
   "source": [
    "# Bagged Logistic Regression"
   ]
  },
  {
   "cell_type": "code",
   "execution_count": 22,
   "metadata": {},
   "outputs": [
    {
     "name": "stdout",
     "output_type": "stream",
     "text": [
      "Accuracy 0.8377581120943953\n",
      "f1_score 0.8467966573816156\n",
      "Mean Absolute Error: 0.16224188790560473\n",
      "Root Mean Squared Error: 0.40279261153303786\n",
      "\n",
      "               precision    recall  f1-score   support\n",
      "\n",
      "           0       0.82      0.84      0.83       158\n",
      "           1       0.85      0.84      0.85       181\n",
      "\n",
      "    accuracy                           0.84       339\n",
      "   macro avg       0.84      0.84      0.84       339\n",
      "weighted avg       0.84      0.84      0.84       339\n",
      "\n"
     ]
    },
    {
     "data": {
      "image/png": "[encoded data removed]",
      "text/plain": [
       "<Figure size 432x288 with 2 Axes>"
      ]
     },
     "metadata": {
      "needs_background": "light"
     },
     "output_type": "display_data"
    }
   ],
   "source": [
    "bagged_logreg= BaggingClassifier(logreg,bootstrap=True)\n",
    "bag_model=bagged_logreg.fit(X_train,y_train)\n",
    "y_pred=bagged_logreg.predict(X_test)\n",
    "generate_bag_accuracy(y_test,y_pred,bagged_logreg)\n"
   ]
  },
  {
   "cell_type": "markdown",
   "metadata": {},
   "source": [
    "# KNN"
   ]
  },
  {
   "cell_type": "code",
   "execution_count": 60,
   "metadata": {},
   "outputs": [
    {
     "name": "stdout",
     "output_type": "stream",
     "text": [
      "Accuracy 0.9233038348082596\n",
      "f1_score 0.9226190476190476\n",
      "Mean Absolute Error: 0.07669616519174041\n",
      "Root Mean Squared Error: 0.27694072505094014\n",
      "\n",
      "               precision    recall  f1-score   support\n",
      "\n",
      "           0       0.86      1.00      0.92       158\n",
      "           1       1.00      0.86      0.92       181\n",
      "\n",
      "    accuracy                           0.92       339\n",
      "   macro avg       0.93      0.93      0.92       339\n",
      "weighted avg       0.93      0.92      0.92       339\n",
      "\n"
     ]
    },
    {
     "data": {
      "image/png": "[encoded data removed]",
      "text/plain": [
       "<Figure size 432x288 with 2 Axes>"
      ]
     },
     "metadata": {
      "needs_background": "light"
     },
     "output_type": "display_data"
    }
   ],
   "source": [
    "neigh=KNeighborsClassifier(n_neighbors=2)\n",
    "knn=neigh.fit(X_train, y_train) \n",
    "y_pred=neigh.predict(X_test)\n",
    "generate_accuracy(y_test,y_pred,neigh)\n",
    "\n",
    " "
   ]
  },
  {
   "cell_type": "markdown",
   "metadata": {},
   "source": [
    "# Bagged KNN"
   ]
  },
  {
   "cell_type": "code",
   "execution_count": 61,
   "metadata": {},
   "outputs": [
    {
     "name": "stdout",
     "output_type": "stream",
     "text": [
      "Accuracy 0.9528023598820059\n",
      "f1_score 0.9542857142857143\n",
      "Mean Absolute Error: 0.0471976401179941\n",
      "Root Mean Squared Error: 0.21725017863742735\n",
      "\n",
      "               precision    recall  f1-score   support\n",
      "\n",
      "           0       0.92      0.99      0.95       158\n",
      "           1       0.99      0.92      0.95       181\n",
      "\n",
      "    accuracy                           0.95       339\n",
      "   macro avg       0.95      0.95      0.95       339\n",
      "weighted avg       0.96      0.95      0.95       339\n",
      "\n"
     ]
    },
    {
     "data": {
      "image/png": "[encoded data removed]",
      "text/plain": [
       "<Figure size 432x288 with 2 Axes>"
      ]
     },
     "metadata": {
      "needs_background": "light"
     },
     "output_type": "display_data"
    }
   ],
   "source": [
    "bagged_knn= BaggingClassifier(neigh)\n",
    "bag_model=bagged_knn.fit(X_train,y_train)\n",
    "y_pred=bagged_knn.predict(X_test)\n",
    "generate_bag_accuracy(y_test,y_pred,bagged_knn)\n"
   ]
  },
  {
   "cell_type": "markdown",
   "metadata": {},
   "source": [
    "# Neural Networks"
   ]
  },
  {
   "cell_type": "code",
   "execution_count": 62,
   "metadata": {},
   "outputs": [
    {
     "name": "stdout",
     "output_type": "stream",
     "text": [
      "Accuracy 0.9085545722713865\n",
      "f1_score 0.9164420485175202\n",
      "Mean Absolute Error: 0.09144542772861357\n",
      "Root Mean Squared Error: 0.30239945060898105\n",
      "\n",
      "               precision    recall  f1-score   support\n",
      "\n",
      "           0       0.93      0.87      0.90       158\n",
      "           1       0.89      0.94      0.92       181\n",
      "\n",
      "    accuracy                           0.91       339\n",
      "   macro avg       0.91      0.91      0.91       339\n",
      "weighted avg       0.91      0.91      0.91       339\n",
      "\n"
     ]
    },
    {
     "data": {
      "image/png": "[encoded data removed]",
      "text/plain": [
       "<Figure size 432x288 with 2 Axes>"
      ]
     },
     "metadata": {
      "needs_background": "light"
     },
     "output_type": "display_data"
    }
   ],
   "source": [
    "neural= MLPClassifier(hidden_layer_sizes=(150,100,50), max_iter=300,random_state=0)\n",
    "nn=neural.fit(X_train,y_train)\n",
    "y_pred=neural.predict(X_test)\n",
    "generate_accuracy(y_test,y_pred,neural)\n"
   ]
  },
  {
   "cell_type": "markdown",
   "metadata": {},
   "source": [
    "# Bagged Neural Netwoks"
   ]
  },
  {
   "cell_type": "code",
   "execution_count": 63,
   "metadata": {},
   "outputs": [
    {
     "name": "stdout",
     "output_type": "stream",
     "text": [
      "Accuracy 0.8908554572271387\n",
      "f1_score 0.8986301369863015\n",
      "Mean Absolute Error: 0.10914454277286136\n",
      "Root Mean Squared Error: 0.3303703115790845\n",
      "\n",
      "               precision    recall  f1-score   support\n",
      "\n",
      "           0       0.89      0.87      0.88       158\n",
      "           1       0.89      0.91      0.90       181\n",
      "\n",
      "    accuracy                           0.89       339\n",
      "   macro avg       0.89      0.89      0.89       339\n",
      "weighted avg       0.89      0.89      0.89       339\n",
      "\n"
     ]
    },
    {
     "data": {
      "image/png": "[encoded data removed]",
      "text/plain": [
       "<Figure size 432x288 with 2 Axes>"
      ]
     },
     "metadata": {
      "needs_background": "light"
     },
     "output_type": "display_data"
    }
   ],
   "source": [
    "bagged_neural=BaggingClassifier(neural)\n",
    "bag_model=bagged_neural.fit(X_train,y_train)\n",
    "y_pred=bagged_neural.predict(X_test)\n",
    "generate_bag_accuracy(y_test,y_pred,bagged_neural)\n"
   ]
  },
  {
   "cell_type": "markdown",
   "metadata": {},
   "source": [
    "# Naive Bayes"
   ]
  },
  {
   "cell_type": "code",
   "execution_count": 64,
   "metadata": {},
   "outputs": [
    {
     "name": "stdout",
     "output_type": "stream",
     "text": [
      "Accuracy 0.8289085545722714\n",
      "f1_score 0.8423913043478262\n",
      "Mean Absolute Error: 0.1710914454277286\n",
      "Root Mean Squared Error: 0.41363201692776225\n",
      "\n",
      "               precision    recall  f1-score   support\n",
      "\n",
      "           0       0.83      0.80      0.81       158\n",
      "           1       0.83      0.86      0.84       181\n",
      "\n",
      "    accuracy                           0.83       339\n",
      "   macro avg       0.83      0.83      0.83       339\n",
      "weighted avg       0.83      0.83      0.83       339\n",
      "\n"
     ]
    },
    {
     "data": {
      "image/png": "[encoded data removed]",
      "text/plain": [
       "<Figure size 432x288 with 2 Axes>"
      ]
     },
     "metadata": {
      "needs_background": "light"
     },
     "output_type": "display_data"
    }
   ],
   "source": [
    "classifier=GaussianNB()\n",
    "nb=classifier.fit(X_train,y_train)\n",
    "y_pred=classifier.predict(X_test)\n",
    "generate_accuracy(y_test,y_pred,classifier)"
   ]
  },
  {
   "cell_type": "markdown",
   "metadata": {},
   "source": [
    "# Bagged Naive Bayes"
   ]
  },
  {
   "cell_type": "code",
   "execution_count": 65,
   "metadata": {},
   "outputs": [
    {
     "name": "stdout",
     "output_type": "stream",
     "text": [
      "Accuracy 0.8259587020648967\n",
      "f1_score 0.8426666666666666\n",
      "Mean Absolute Error: 0.17404129793510326\n",
      "Root Mean Squared Error: 0.4171825714661427\n",
      "\n",
      "               precision    recall  f1-score   support\n",
      "\n",
      "           0       0.84      0.77      0.81       158\n",
      "           1       0.81      0.87      0.84       181\n",
      "\n",
      "    accuracy                           0.83       339\n",
      "   macro avg       0.83      0.82      0.82       339\n",
      "weighted avg       0.83      0.83      0.83       339\n",
      "\n"
     ]
    },
    {
     "data": {
      "image/png": "[encoded data removed]",
      "text/plain": [
       "<Figure size 432x288 with 2 Axes>"
      ]
     },
     "metadata": {
      "needs_background": "light"
     },
     "output_type": "display_data"
    }
   ],
   "source": [
    "bagged_nb= BaggingClassifier(classifier)\n",
    "bag_model=bagged_nb.fit(X_train,y_train)\n",
    "y_pred=bagged_nb.predict(X_test)\n",
    "generate_bag_accuracy(y_test,y_pred,bagged_nb)"
   ]
  },
  {
   "cell_type": "markdown",
   "metadata": {},
   "source": [
    "# SVM"
   ]
  },
  {
   "cell_type": "code",
   "execution_count": 66,
   "metadata": {},
   "outputs": [
    {
     "name": "stdout",
     "output_type": "stream",
     "text": [
      "Accuracy 0.8259587020648967\n",
      "f1_score 0.837465564738292\n",
      "Mean Absolute Error: 0.17404129793510326\n",
      "Root Mean Squared Error: 0.4171825714661427\n",
      "\n",
      "               precision    recall  f1-score   support\n",
      "\n",
      "           0       0.82      0.81      0.81       158\n",
      "           1       0.84      0.84      0.84       181\n",
      "\n",
      "    accuracy                           0.83       339\n",
      "   macro avg       0.83      0.82      0.83       339\n",
      "weighted avg       0.83      0.83      0.83       339\n",
      "\n"
     ]
    },
    {
     "data": {
      "image/png": "[encoded data removed]",
      "text/plain": [
       "<Figure size 432x288 with 2 Axes>"
      ]
     },
     "metadata": {
      "needs_background": "light"
     },
     "output_type": "display_data"
    }
   ],
   "source": [
    "svclassifier=SVC(kernel='linear')\n",
    "svm=svclassifier.fit(X_train,y_train)\n",
    "y_pred=svclassifier.predict(X_test)\n",
    "generate_accuracy(y_test,y_pred,svclassifier)"
   ]
  },
  {
   "cell_type": "markdown",
   "metadata": {},
   "source": [
    "# Bagged SVM"
   ]
  },
  {
   "cell_type": "code",
   "execution_count": 67,
   "metadata": {
    "scrolled": true
   },
   "outputs": [
    {
     "name": "stdout",
     "output_type": "stream",
     "text": [
      "Accuracy 0.8407079646017699\n",
      "f1_score 0.8483146067415731\n",
      "Mean Absolute Error: 0.1592920353982301\n",
      "Root Mean Squared Error: 0.3991140631426436\n",
      "\n",
      "               precision    recall  f1-score   support\n",
      "\n",
      "           0       0.82      0.85      0.83       158\n",
      "           1       0.86      0.83      0.85       181\n",
      "\n",
      "    accuracy                           0.84       339\n",
      "   macro avg       0.84      0.84      0.84       339\n",
      "weighted avg       0.84      0.84      0.84       339\n",
      "\n"
     ]
    },
    {
     "data": {
      "image/png": "[encoded data removed]",
      "text/plain": [
       "<Figure size 432x288 with 2 Axes>"
      ]
     },
     "metadata": {
      "needs_background": "light"
     },
     "output_type": "display_data"
    }
   ],
   "source": [
    "bagged_svm=BaggingClassifier(svclassifier)\n",
    "bag_model=bagged_svm.fit(X_train,y_train)\n",
    "y_pred=bagged_svm.predict(X_test)\n",
    "generate_bag_accuracy(y_test,y_pred,bagged_svm)"
   ]
  },
  {
   "cell_type": "markdown",
   "metadata": {},
   "source": [
    "# Decision Tree"
   ]
  },
  {
   "cell_type": "code",
   "execution_count": 68,
   "metadata": {},
   "outputs": [
    {
     "name": "stdout",
     "output_type": "stream",
     "text": [
      "Accuracy 0.9705014749262537\n",
      "f1_score 0.9717514124293786\n",
      "Mean Absolute Error: 0.029498525073746312\n",
      "Root Mean Squared Error: 0.17175134664318156\n",
      "\n",
      "               precision    recall  f1-score   support\n",
      "\n",
      "           0       0.95      0.99      0.97       158\n",
      "           1       0.99      0.95      0.97       181\n",
      "\n",
      "    accuracy                           0.97       339\n",
      "   macro avg       0.97      0.97      0.97       339\n",
      "weighted avg       0.97      0.97      0.97       339\n",
      "\n"
     ]
    },
    {
     "data": {
      "image/png": "[encoded data removed]",
      "text/plain": [
       "<Figure size 432x288 with 2 Axes>"
      ]
     },
     "metadata": {
      "needs_background": "light"
     },
     "output_type": "display_data"
    }
   ],
   "source": [
    "tree = DecisionTreeClassifier(random_state=0)\n",
    "dt=tree.fit(X_train, y_train)\n",
    "y_pred=tree.predict(X_test)\n",
    "generate_accuracy(y_test,y_pred,tree)\n",
    "\n"
   ]
  },
  {
   "cell_type": "markdown",
   "metadata": {},
   "source": [
    "# Bagged Decision Tree"
   ]
  },
  {
   "cell_type": "code",
   "execution_count": 69,
   "metadata": {},
   "outputs": [
    {
     "name": "stdout",
     "output_type": "stream",
     "text": [
      "Accuracy 0.976401179941003\n",
      "f1_score 0.9776536312849162\n",
      "Mean Absolute Error: 0.02359882005899705\n",
      "Root Mean Squared Error: 0.1536190745285137\n",
      "\n",
      "               precision    recall  f1-score   support\n",
      "\n",
      "           0       0.96      0.99      0.97       158\n",
      "           1       0.99      0.97      0.98       181\n",
      "\n",
      "    accuracy                           0.98       339\n",
      "   macro avg       0.98      0.98      0.98       339\n",
      "weighted avg       0.98      0.98      0.98       339\n",
      "\n"
     ]
    },
    {
     "data": {
      "image/png": "[encoded data removed]",
      "text/plain": [
       "<Figure size 432x288 with 2 Axes>"
      ]
     },
     "metadata": {
      "needs_background": "light"
     },
     "output_type": "display_data"
    }
   ],
   "source": [
    "bagged_tree= BaggingClassifier(tree)\n",
    "bag_model=bagged_tree.fit(X_train,y_train)\n",
    "y_pred=bagged_tree.predict(X_test)\n",
    "generate_bag_accuracy(y_test,y_pred,bagged_tree)\n"
   ]
  },
  {
   "cell_type": "code",
   "execution_count": 70,
   "metadata": {},
   "outputs": [
    {
     "data": {
      "image/png": "[encoded data removed]",
      "text/plain": [
       "<Figure size 936x360 with 1 Axes>"
      ]
     },
     "metadata": {
      "needs_background": "light"
     },
     "output_type": "display_data"
    }
   ],
   "source": [
    "r1 = np.arange(len(accuracy1))\n",
    "r2 = [x + 0.3 for x in r1]\n",
    "plt.figure(figsize=(13,5))\n",
    "plt.bar(r1, accuracy1, width = 0.3, color = 'orange', edgecolor = 'black')\n",
    "plt.bar(r2, accuracy2, width = 0.3, color = 'blue', edgecolor = 'black')\n",
    "plt.xticks([r for r in range(len(accuracy1))],['LR','KNN','NN','NB','SVM','DT'])\n",
    "plt.ylabel('accuracy')\n",
    "plt.title('Comparision of accuracies using bagging classifiers ')\n",
    "plt.show()"
   ]
  },
  {
   "cell_type": "code",
   "execution_count": 71,
   "metadata": {},
   "outputs": [],
   "source": [
    "from sklearn.ensemble import RandomForestClassifier,AdaBoostClassifier,GradientBoostingClassifier"
   ]
  },
  {
   "cell_type": "code",
   "execution_count": 72,
   "metadata": {},
   "outputs": [],
   "source": [
    "accuracy3=[]\n",
    "def generate_ensemble_accuracy(ytest,ypred,classifier):\n",
    "    cm = confusion_matrix(ytest,ypred)\n",
    "    accuracy3.append(accuracy_score(ytest, ypred))\n",
    "    class_names=[0,1] # name  of classes\n",
    "    fig, ax = plt.subplots()\n",
    "    tick_marks = np.arange(len(class_names))\n",
    "    plt.xticks(tick_marks, class_names)\n",
    "    plt.yticks(tick_marks, class_names)# create heatmap\n",
    "    sns.heatmap(pd.DataFrame(cm), annot=True, cmap=\"YlGnBu\" ,fmt='g')\n",
    "    ax.xaxis.set_label_position(\"top\")\n",
    "    plt.tight_layout()\n",
    "    plt.title('Confusion matrix', y=1.1)\n",
    "    plt.ylabel('Actual label')\n",
    "    plt.xlabel('Predicted label')\n",
    "    \n",
    "    print('Accuracy',accuracy_score(ytest, ypred))\n",
    "    print('f1_score',f1_score(ytest,ypred))\n",
    "    print('Mean Absolute Error:', metrics.mean_absolute_error(ytest,ypred))\n",
    "    #print('Mean Squared Error:', metrics.mean_squared_error(ytest,ypred))  \n",
    "    print('Root Mean Squared Error:', np.sqrt(metrics.mean_squared_error(ytest,ypred)))\n",
    "    \n",
    "    print(\"\\n\",classification_report(ytest,ypred))"
   ]
  },
  {
   "cell_type": "markdown",
   "metadata": {},
   "source": [
    "# Random Forest"
   ]
  },
  {
   "cell_type": "code",
   "execution_count": 73,
   "metadata": {},
   "outputs": [
    {
     "name": "stdout",
     "output_type": "stream",
     "text": [
      "Accuracy 0.9823008849557522\n",
      "f1_score 0.9831460674157304\n",
      "Mean Absolute Error: 0.017699115044247787\n",
      "Root Mean Squared Error: 0.13303802104754786\n",
      "\n",
      "               precision    recall  f1-score   support\n",
      "\n",
      "           0       0.96      1.00      0.98       158\n",
      "           1       1.00      0.97      0.98       181\n",
      "\n",
      "    accuracy                           0.98       339\n",
      "   macro avg       0.98      0.98      0.98       339\n",
      "weighted avg       0.98      0.98      0.98       339\n",
      "\n"
     ]
    },
    {
     "data": {
      "image/png": "[encoded data removed]",
      "text/plain": [
       "<Figure size 432x288 with 2 Axes>"
      ]
     },
     "metadata": {
      "needs_background": "light"
     },
     "output_type": "display_data"
    }
   ],
   "source": [
    "clf = RandomForestClassifier(n_estimators=500, max_features=2,random_state=0)\n",
    "rf=clf.fit(X_train,y_train)\n",
    "y_pred=clf.predict(X_test)\n",
    "generate_ensemble_accuracy(y_test,y_pred,clf)"
   ]
  },
  {
   "cell_type": "markdown",
   "metadata": {},
   "source": [
    "# Ada Boost"
   ]
  },
  {
   "cell_type": "code",
   "execution_count": 74,
   "metadata": {},
   "outputs": [
    {
     "name": "stdout",
     "output_type": "stream",
     "text": [
      "Accuracy 0.943952802359882\n",
      "f1_score 0.9461756373937678\n",
      "Mean Absolute Error: 0.05604719764011799\n",
      "Root Mean Squared Error: 0.23674289353667619\n",
      "\n",
      "               precision    recall  f1-score   support\n",
      "\n",
      "           0       0.92      0.97      0.94       158\n",
      "           1       0.97      0.92      0.95       181\n",
      "\n",
      "    accuracy                           0.94       339\n",
      "   macro avg       0.94      0.95      0.94       339\n",
      "weighted avg       0.95      0.94      0.94       339\n",
      "\n"
     ]
    },
    {
     "data": {
      "image/png": "[encoded data removed]",
      "text/plain": [
       "<Figure size 432x288 with 2 Axes>"
      ]
     },
     "metadata": {
      "needs_background": "light"
     },
     "output_type": "display_data"
    }
   ],
   "source": [
    "adabst= AdaBoostClassifier(n_estimators=500)\n",
    "adb=adabst.fit(X_train,y_train)\n",
    "y_pred=adabst.predict(X_test)\n",
    "generate_ensemble_accuracy(y_test,y_pred,adabst)"
   ]
  },
  {
   "cell_type": "markdown",
   "metadata": {},
   "source": [
    "# Gradiant Boost"
   ]
  },
  {
   "cell_type": "code",
   "execution_count": 75,
   "metadata": {},
   "outputs": [
    {
     "name": "stdout",
     "output_type": "stream",
     "text": [
      "Accuracy 0.9734513274336283\n",
      "f1_score 0.9747899159663865\n",
      "Mean Absolute Error: 0.02654867256637168\n",
      "Root Mean Squared Error: 0.1629376339780705\n",
      "\n",
      "               precision    recall  f1-score   support\n",
      "\n",
      "           0       0.96      0.99      0.97       158\n",
      "           1       0.99      0.96      0.97       181\n",
      "\n",
      "    accuracy                           0.97       339\n",
      "   macro avg       0.97      0.97      0.97       339\n",
      "weighted avg       0.97      0.97      0.97       339\n",
      "\n"
     ]
    },
    {
     "data": {
      "image/png": "[encoded data removed]",
      "text/plain": [
       "<Figure size 432x288 with 2 Axes>"
      ]
     },
     "metadata": {
      "needs_background": "light"
     },
     "output_type": "display_data"
    }
   ],
   "source": [
    "gradbst= GradientBoostingClassifier(n_estimators=500)\n",
    "gb=gradbst.fit(X_train,y_train)\n",
    "y_pred=gradbst.predict(X_test)\n",
    "generate_ensemble_accuracy(y_test,y_pred,gradbst)"
   ]
  },
  {
   "cell_type": "markdown",
   "metadata": {},
   "source": [
    "# Voting Classifier"
   ]
  },
  {
   "cell_type": "code",
   "execution_count": 76,
   "metadata": {},
   "outputs": [],
   "source": [
    "estimator = [] \n",
    "estimator.append(('KNN',KNeighborsClassifier(n_neighbors=2)))\n",
    "estimator.append(('LR',LogisticRegression(solver ='lbfgs',multi_class ='multinomial',max_iter = 200))) \n",
    "estimator.append(('SVC', SVC(gamma ='auto', probability = True))) \n",
    "estimator.append(('DTC', DecisionTreeClassifier())) \n",
    "estimator.append(('NB',GaussianNB()))\n",
    "estimator.append(('NN',MLPClassifier(hidden_layer_sizes=(150,100,50), max_iter=300,activation='relu',solver='adam',random_state=0)))"
   ]
  },
  {
   "cell_type": "code",
   "execution_count": 77,
   "metadata": {},
   "outputs": [
    {
     "name": "stdout",
     "output_type": "stream",
     "text": [
      "Accuracy 0.8849557522123894\n",
      "f1_score 0.8882521489971348\n",
      "Mean Absolute Error: 0.11504424778761062\n",
      "Root Mean Squared Error: 0.3391817326856071\n",
      "\n",
      "               precision    recall  f1-score   support\n",
      "\n",
      "           0       0.85      0.92      0.88       158\n",
      "           1       0.92      0.86      0.89       181\n",
      "\n",
      "    accuracy                           0.88       339\n",
      "   macro avg       0.89      0.89      0.88       339\n",
      "weighted avg       0.89      0.88      0.89       339\n",
      "\n"
     ]
    },
    {
     "data": {
      "image/png": "[encoded data removed]",
      "text/plain": [
       "<Figure size 432x288 with 2 Axes>"
      ]
     },
     "metadata": {
      "needs_background": "light"
     },
     "output_type": "display_data"
    }
   ],
   "source": [
    "ensemble=VotingClassifier(estimator)\n",
    "ensemble.fit(X_train, y_train)\n",
    "y_pred=ensemble.predict(X_test)\n",
    "generate_ensemble_accuracy(y_test,y_pred,ensemble)"
   ]
  },
  {
   "cell_type": "code",
   "execution_count": 78,
   "metadata": {},
   "outputs": [
    {
     "data": {
      "image/png": "[encoded data removed]",
      "text/plain": [
       "<Figure size 720x360 with 1 Axes>"
      ]
     },
     "metadata": {
      "needs_background": "light"
     },
     "output_type": "display_data"
    }
   ],
   "source": [
    "classifiers=['RF','AdaBOOST','Gradboost','VC']\n",
    "fig=plt.figure(figsize=(10,5))\n",
    "fig.suptitle('Ensemble Model Comparison')\n",
    "plt.bar(classifiers,accuracy3)\n",
    "plt.xlabel('algorithm')\n",
    "plt.ylabel('accuracy')\n",
    "plt.show()"
   ]
  },
  {
   "cell_type": "code",
   "execution_count": null,
   "metadata": {},
   "outputs": [],
   "source": []
  },
  {
   "cell_type": "code",
   "execution_count": 79,
   "metadata": {},
   "outputs": [
    {
     "data": {
      "text/plain": [
       "[0.831858407079646,\n",
       " 0.9233038348082596,\n",
       " 0.9085545722713865,\n",
       " 0.8289085545722714,\n",
       " 0.8259587020648967,\n",
       " 0.9705014749262537]"
      ]
     },
     "execution_count": 79,
     "metadata": {},
     "output_type": "execute_result"
    }
   ],
   "source": [
    "accuracy1"
   ]
  },
  {
   "cell_type": "code",
   "execution_count": 80,
   "metadata": {},
   "outputs": [
    {
     "data": {
      "text/plain": [
       "[0.8348082595870207,\n",
       " 0.9528023598820059,\n",
       " 0.8908554572271387,\n",
       " 0.8259587020648967,\n",
       " 0.8407079646017699,\n",
       " 0.976401179941003]"
      ]
     },
     "execution_count": 80,
     "metadata": {},
     "output_type": "execute_result"
    }
   ],
   "source": [
    "accuracy2"
   ]
  },
  {
   "cell_type": "code",
   "execution_count": 81,
   "metadata": {},
   "outputs": [
    {
     "data": {
      "text/plain": [
       "[0.9823008849557522, 0.943952802359882, 0.9734513274336283, 0.8849557522123894]"
      ]
     },
     "execution_count": 81,
     "metadata": {},
     "output_type": "execute_result"
    }
   ],
   "source": [
    "accuracy3\n"
   ]
  },
  {
   "cell_type": "code",
   "execution_count": null,
   "metadata": {},
   "outputs": [],
   "source": []
  }
 ],
 "metadata": {
  "kernelspec": {
   "display_name": "Python 3 (ipykernel)",
   "language": "python",
   "name": "python3"
  },
  "language_info": {
   "codemirror_mode": {
    "name": "ipython",
    "version": 3
   },
   "file_extension": ".py",
   "mimetype": "text/x-python",
   "name": "python",
   "nbconvert_exporter": "python",
   "pygments_lexer": "ipython3",
   "version": "3.9.12"
  }
 },
 "nbformat": 4,
 "nbformat_minor": 2
}
